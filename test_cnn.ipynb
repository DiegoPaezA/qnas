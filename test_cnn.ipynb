{
 "cells": [
  {
   "cell_type": "code",
   "execution_count": 9,
   "metadata": {},
   "outputs": [],
   "source": [
    "from cnn.model import ConvBlock\n",
    "import tensorflow as tf"
   ]
  },
  {
   "cell_type": "code",
   "execution_count": 12,
   "metadata": {},
   "outputs": [],
   "source": [
    "# disable all tensorflow logs\n",
    "import os\n",
    "os.environ['TF_CPP_MIN_LOG_LEVEL'] = '3'"
   ]
  },
  {
   "cell_type": "code",
   "execution_count": 4,
   "metadata": {},
   "outputs": [],
   "source": [
    "kernel = 3\n",
    "stride = 1\n",
    "filters = 6\n",
    "mu=0.9\n",
    "epsilon=2e-5\n",
    "conv_block = ConvBlock(kernel, stride, filters, mu, epsilon)"
   ]
  },
  {
   "cell_type": "code",
   "execution_count": 15,
   "metadata": {},
   "outputs": [
    {
     "name": "stderr",
     "output_type": "stream",
     "text": [
      "/home/diego.paez/miniconda3/envs/qnas1/lib/python3.8/site-packages/tensorflow/python/keras/legacy_tf_layers/convolutional.py:414: UserWarning: `tf.layers.conv2d` is deprecated and will be removed in a future version. Please Use `tf.keras.layers.Conv2D` instead.\n",
      "  warnings.warn('`tf.layers.conv2d` is deprecated and '\n",
      "/home/diego.paez/miniconda3/envs/qnas1/lib/python3.8/site-packages/tensorflow/python/keras/engine/base_layer.py:2273: UserWarning: `layer.apply` is deprecated and will be removed in a future version. Please use `layer.__call__` method instead.\n",
      "  warnings.warn('`layer.apply` is deprecated and '\n",
      "2023-07-27 17:45:05.711050: I tensorflow/stream_executor/platform/default/dso_loader.cc:49] Successfully opened dynamic library libcudnn.so.8\n",
      "2023-07-27 17:45:06.440111: E tensorflow/stream_executor/cuda/cuda_dnn.cc:336] Could not create cudnn handle: CUDNN_STATUS_INTERNAL_ERROR\n",
      "2023-07-27 17:45:06.469755: E tensorflow/stream_executor/cuda/cuda_dnn.cc:336] Could not create cudnn handle: CUDNN_STATUS_INTERNAL_ERROR\n"
     ]
    },
    {
     "ename": "UnknownError",
     "evalue": "Failed to get convolution algorithm. This is probably because cuDNN failed to initialize, so try looking to see if a warning log message was printed above. [Op:Conv2D]",
     "output_type": "error",
     "traceback": [
      "\u001b[0;31m---------------------------------------------------------------------------\u001b[0m",
      "\u001b[0;31mUnknownError\u001b[0m                              Traceback (most recent call last)",
      "Cell \u001b[0;32mIn[15], line 3\u001b[0m\n\u001b[1;32m      1\u001b[0m \u001b[39m# Creante random image tensor\u001b[39;00m\n\u001b[1;32m      2\u001b[0m x \u001b[39m=\u001b[39m tf\u001b[39m.\u001b[39mrandom\u001b[39m.\u001b[39muniform((\u001b[39m1\u001b[39m, \u001b[39m28\u001b[39m, \u001b[39m28\u001b[39m, \u001b[39m1\u001b[39m))\n\u001b[0;32m----> 3\u001b[0m y \u001b[39m=\u001b[39m conv_block(x, name\u001b[39m=\u001b[39;49m\u001b[39m'\u001b[39;49m\u001b[39mtest\u001b[39;49m\u001b[39m'\u001b[39;49m, is_train \u001b[39m=\u001b[39;49m \u001b[39mFalse\u001b[39;49;00m)\n\u001b[1;32m      4\u001b[0m \u001b[39m# print(y.shape)\u001b[39;00m\n",
      "File \u001b[0;32m~/qnas/cnn/model.py:51\u001b[0m, in \u001b[0;36mConvBlock.__call__\u001b[0;34m(self, inputs, name, is_train)\u001b[0m\n\u001b[1;32m     39\u001b[0m \u001b[39m\u001b[39m\u001b[39m\"\"\" Convolutional block with convolution op + batch normalization op.\u001b[39;00m\n\u001b[1;32m     40\u001b[0m \n\u001b[1;32m     41\u001b[0m \u001b[39mArgs:\u001b[39;00m\n\u001b[0;32m   (...)\u001b[0m\n\u001b[1;32m     47\u001b[0m \u001b[39m    output tensor.\u001b[39;00m\n\u001b[1;32m     48\u001b[0m \u001b[39m\"\"\"\u001b[39;00m\n\u001b[1;32m     50\u001b[0m \u001b[39mwith\u001b[39;00m tf\u001b[39m.\u001b[39mcompat\u001b[39m.\u001b[39mv1\u001b[39m.\u001b[39mvariable_scope(name):\n\u001b[0;32m---> 51\u001b[0m     tensor \u001b[39m=\u001b[39m \u001b[39mself\u001b[39;49m\u001b[39m.\u001b[39;49m_conv2d(inputs, name\u001b[39m=\u001b[39;49m\u001b[39m'\u001b[39;49m\u001b[39mconv1\u001b[39;49m\u001b[39m'\u001b[39;49m)\n\u001b[1;32m     52\u001b[0m     tensor \u001b[39m=\u001b[39m \u001b[39mself\u001b[39m\u001b[39m.\u001b[39m_batch_norm(tensor, is_train, name\u001b[39m=\u001b[39m\u001b[39m'\u001b[39m\u001b[39mbn1\u001b[39m\u001b[39m'\u001b[39m)\n\u001b[1;32m     53\u001b[0m     tensor \u001b[39m=\u001b[39m \u001b[39mself\u001b[39m\u001b[39m.\u001b[39mactivation(tensor)\n",
      "File \u001b[0;32m~/qnas/cnn/model.py:68\u001b[0m, in \u001b[0;36mConvBlock._conv2d\u001b[0;34m(self, inputs, name)\u001b[0m\n\u001b[1;32m     57\u001b[0m \u001b[39mdef\u001b[39;00m \u001b[39m_conv2d\u001b[39m(\u001b[39mself\u001b[39m, inputs, name\u001b[39m=\u001b[39m\u001b[39mNone\u001b[39;00m):\n\u001b[1;32m     58\u001b[0m \u001b[39m    \u001b[39m\u001b[39m\"\"\" Convolution operation wrapper.\u001b[39;00m\n\u001b[1;32m     59\u001b[0m \n\u001b[1;32m     60\u001b[0m \u001b[39m    Args:\u001b[39;00m\n\u001b[0;32m   (...)\u001b[0m\n\u001b[1;32m     65\u001b[0m \u001b[39m        output tensor.\u001b[39;00m\n\u001b[1;32m     66\u001b[0m \u001b[39m    \"\"\"\u001b[39;00m\n\u001b[0;32m---> 68\u001b[0m     \u001b[39mreturn\u001b[39;00m tf\u001b[39m.\u001b[39;49mcompat\u001b[39m.\u001b[39;49mv1\u001b[39m.\u001b[39;49mlayers\u001b[39m.\u001b[39;49mconv2d(inputs\u001b[39m=\u001b[39;49minputs,\n\u001b[1;32m     69\u001b[0m                             filters\u001b[39m=\u001b[39;49m\u001b[39mself\u001b[39;49m\u001b[39m.\u001b[39;49mfilters,\n\u001b[1;32m     70\u001b[0m                             kernel_size\u001b[39m=\u001b[39;49m\u001b[39mself\u001b[39;49m\u001b[39m.\u001b[39;49mkernel_size,\n\u001b[1;32m     71\u001b[0m                             activation\u001b[39m=\u001b[39;49m\u001b[39mNone\u001b[39;49;00m,\n\u001b[1;32m     72\u001b[0m                             padding\u001b[39m=\u001b[39;49m\u001b[39mself\u001b[39;49m\u001b[39m.\u001b[39;49mpadding,\n\u001b[1;32m     73\u001b[0m                             strides\u001b[39m=\u001b[39;49m\u001b[39mself\u001b[39;49m\u001b[39m.\u001b[39;49mstrides,\n\u001b[1;32m     74\u001b[0m                             data_format\u001b[39m=\u001b[39;49m\u001b[39m'\u001b[39;49m\u001b[39mchannels_last\u001b[39;49m\u001b[39m'\u001b[39;49m,\n\u001b[1;32m     75\u001b[0m                             kernel_initializer\u001b[39m=\u001b[39;49m\u001b[39mself\u001b[39;49m\u001b[39m.\u001b[39;49minitializer(),\n\u001b[1;32m     76\u001b[0m                             bias_initializer\u001b[39m=\u001b[39;49m\u001b[39mself\u001b[39;49m\u001b[39m.\u001b[39;49minitializer(), name\u001b[39m=\u001b[39;49mname)\n",
      "File \u001b[0;32m~/miniconda3/envs/qnas1/lib/python3.8/site-packages/tensorflow/python/keras/legacy_tf_layers/convolutional.py:437\u001b[0m, in \u001b[0;36mconv2d\u001b[0;34m(inputs, filters, kernel_size, strides, padding, data_format, dilation_rate, activation, use_bias, kernel_initializer, bias_initializer, kernel_regularizer, bias_regularizer, activity_regularizer, kernel_constraint, bias_constraint, trainable, name, reuse)\u001b[0m\n\u001b[1;32m    414\u001b[0m warnings\u001b[39m.\u001b[39mwarn(\u001b[39m'\u001b[39m\u001b[39m`tf.layers.conv2d` is deprecated and \u001b[39m\u001b[39m'\u001b[39m\n\u001b[1;32m    415\u001b[0m               \u001b[39m'\u001b[39m\u001b[39mwill be removed in a future version. \u001b[39m\u001b[39m'\u001b[39m\n\u001b[1;32m    416\u001b[0m               \u001b[39m'\u001b[39m\u001b[39mPlease Use `tf.keras.layers.Conv2D` instead.\u001b[39m\u001b[39m'\u001b[39m)\n\u001b[1;32m    417\u001b[0m layer \u001b[39m=\u001b[39m Conv2D(\n\u001b[1;32m    418\u001b[0m     filters\u001b[39m=\u001b[39mfilters,\n\u001b[1;32m    419\u001b[0m     kernel_size\u001b[39m=\u001b[39mkernel_size,\n\u001b[0;32m   (...)\u001b[0m\n\u001b[1;32m    435\u001b[0m     _reuse\u001b[39m=\u001b[39mreuse,\n\u001b[1;32m    436\u001b[0m     _scope\u001b[39m=\u001b[39mname)\n\u001b[0;32m--> 437\u001b[0m \u001b[39mreturn\u001b[39;00m layer\u001b[39m.\u001b[39;49mapply(inputs)\n",
      "File \u001b[0;32m~/miniconda3/envs/qnas1/lib/python3.8/site-packages/tensorflow/python/keras/engine/base_layer.py:2276\u001b[0m, in \u001b[0;36mLayer.apply\u001b[0;34m(self, inputs, *args, **kwargs)\u001b[0m\n\u001b[1;32m   2261\u001b[0m \u001b[39m\u001b[39m\u001b[39m\"\"\"Deprecated, do NOT use!\u001b[39;00m\n\u001b[1;32m   2262\u001b[0m \n\u001b[1;32m   2263\u001b[0m \u001b[39mThis is an alias of `self.__call__`.\u001b[39;00m\n\u001b[0;32m   (...)\u001b[0m\n\u001b[1;32m   2271\u001b[0m \u001b[39m  Output tensor(s).\u001b[39;00m\n\u001b[1;32m   2272\u001b[0m \u001b[39m\"\"\"\u001b[39;00m\n\u001b[1;32m   2273\u001b[0m warnings\u001b[39m.\u001b[39mwarn(\u001b[39m'\u001b[39m\u001b[39m`layer.apply` is deprecated and \u001b[39m\u001b[39m'\u001b[39m\n\u001b[1;32m   2274\u001b[0m               \u001b[39m'\u001b[39m\u001b[39mwill be removed in a future version. \u001b[39m\u001b[39m'\u001b[39m\n\u001b[1;32m   2275\u001b[0m               \u001b[39m'\u001b[39m\u001b[39mPlease use `layer.__call__` method instead.\u001b[39m\u001b[39m'\u001b[39m)\n\u001b[0;32m-> 2276\u001b[0m \u001b[39mreturn\u001b[39;00m \u001b[39mself\u001b[39;49m\u001b[39m.\u001b[39;49m\u001b[39m__call__\u001b[39;49m(inputs, \u001b[39m*\u001b[39;49margs, \u001b[39m*\u001b[39;49m\u001b[39m*\u001b[39;49mkwargs)\n",
      "File \u001b[0;32m~/miniconda3/envs/qnas1/lib/python3.8/site-packages/tensorflow/python/keras/legacy_tf_layers/base.py:551\u001b[0m, in \u001b[0;36mLayer.__call__\u001b[0;34m(self, inputs, *args, **kwargs)\u001b[0m\n\u001b[1;32m    548\u001b[0m     kwargs[\u001b[39m'\u001b[39m\u001b[39mscope\u001b[39m\u001b[39m'\u001b[39m] \u001b[39m=\u001b[39m scope\n\u001b[1;32m    550\u001b[0m   \u001b[39m# Actually call layer\u001b[39;00m\n\u001b[0;32m--> 551\u001b[0m   outputs \u001b[39m=\u001b[39m \u001b[39msuper\u001b[39;49m(Layer, \u001b[39mself\u001b[39;49m)\u001b[39m.\u001b[39;49m\u001b[39m__call__\u001b[39;49m(inputs, \u001b[39m*\u001b[39;49margs, \u001b[39m*\u001b[39;49m\u001b[39m*\u001b[39;49mkwargs)\n\u001b[1;32m    553\u001b[0m \u001b[39mif\u001b[39;00m \u001b[39mnot\u001b[39;00m context\u001b[39m.\u001b[39mexecuting_eagerly():\n\u001b[1;32m    554\u001b[0m   \u001b[39m# Update global default collections.\u001b[39;00m\n\u001b[1;32m    555\u001b[0m   _add_elements_to_collection(\u001b[39mself\u001b[39m\u001b[39m.\u001b[39mupdates, ops\u001b[39m.\u001b[39mGraphKeys\u001b[39m.\u001b[39mUPDATE_OPS)\n",
      "File \u001b[0;32m~/miniconda3/envs/qnas1/lib/python3.8/site-packages/tensorflow/python/keras/engine/base_layer.py:1012\u001b[0m, in \u001b[0;36mLayer.__call__\u001b[0;34m(self, *args, **kwargs)\u001b[0m\n\u001b[1;32m   1008\u001b[0m   \u001b[39mself\u001b[39m\u001b[39m.\u001b[39m_maybe_build(inputs)\n\u001b[1;32m   1010\u001b[0m \u001b[39mwith\u001b[39;00m autocast_variable\u001b[39m.\u001b[39menable_auto_cast_variables(\n\u001b[1;32m   1011\u001b[0m     \u001b[39mself\u001b[39m\u001b[39m.\u001b[39m_compute_dtype_object):\n\u001b[0;32m-> 1012\u001b[0m   outputs \u001b[39m=\u001b[39m call_fn(inputs, \u001b[39m*\u001b[39;49margs, \u001b[39m*\u001b[39;49m\u001b[39m*\u001b[39;49mkwargs)\n\u001b[1;32m   1014\u001b[0m \u001b[39mif\u001b[39;00m \u001b[39mself\u001b[39m\u001b[39m.\u001b[39m_activity_regularizer:\n\u001b[1;32m   1015\u001b[0m   \u001b[39mself\u001b[39m\u001b[39m.\u001b[39m_handle_activity_regularization(inputs, outputs)\n",
      "File \u001b[0;32m~/miniconda3/envs/qnas1/lib/python3.8/site-packages/tensorflow/python/keras/layers/convolutional.py:248\u001b[0m, in \u001b[0;36mConv.call\u001b[0;34m(self, inputs)\u001b[0m\n\u001b[1;32m    245\u001b[0m \u001b[39mif\u001b[39;00m \u001b[39mself\u001b[39m\u001b[39m.\u001b[39m_is_causal:  \u001b[39m# Apply causal padding to inputs for Conv1D.\u001b[39;00m\n\u001b[1;32m    246\u001b[0m   inputs \u001b[39m=\u001b[39m array_ops\u001b[39m.\u001b[39mpad(inputs, \u001b[39mself\u001b[39m\u001b[39m.\u001b[39m_compute_causal_padding(inputs))\n\u001b[0;32m--> 248\u001b[0m outputs \u001b[39m=\u001b[39m \u001b[39mself\u001b[39;49m\u001b[39m.\u001b[39;49m_convolution_op(inputs, \u001b[39mself\u001b[39;49m\u001b[39m.\u001b[39;49mkernel)\n\u001b[1;32m    250\u001b[0m \u001b[39mif\u001b[39;00m \u001b[39mself\u001b[39m\u001b[39m.\u001b[39muse_bias:\n\u001b[1;32m    251\u001b[0m   output_rank \u001b[39m=\u001b[39m outputs\u001b[39m.\u001b[39mshape\u001b[39m.\u001b[39mrank\n",
      "File \u001b[0;32m~/miniconda3/envs/qnas1/lib/python3.8/site-packages/tensorflow/python/util/dispatch.py:201\u001b[0m, in \u001b[0;36madd_dispatch_support.<locals>.wrapper\u001b[0;34m(*args, **kwargs)\u001b[0m\n\u001b[1;32m    199\u001b[0m \u001b[39m\u001b[39m\u001b[39m\"\"\"Call target, and fall back on dispatchers if there is a TypeError.\"\"\"\u001b[39;00m\n\u001b[1;32m    200\u001b[0m \u001b[39mtry\u001b[39;00m:\n\u001b[0;32m--> 201\u001b[0m   \u001b[39mreturn\u001b[39;00m target(\u001b[39m*\u001b[39;49margs, \u001b[39m*\u001b[39;49m\u001b[39m*\u001b[39;49mkwargs)\n\u001b[1;32m    202\u001b[0m \u001b[39mexcept\u001b[39;00m (\u001b[39mTypeError\u001b[39;00m, \u001b[39mValueError\u001b[39;00m):\n\u001b[1;32m    203\u001b[0m   \u001b[39m# Note: convert_to_eager_tensor currently raises a ValueError, not a\u001b[39;00m\n\u001b[1;32m    204\u001b[0m   \u001b[39m# TypeError, when given unexpected types.  So we need to catch both.\u001b[39;00m\n\u001b[1;32m    205\u001b[0m   result \u001b[39m=\u001b[39m dispatch(wrapper, args, kwargs)\n",
      "File \u001b[0;32m~/miniconda3/envs/qnas1/lib/python3.8/site-packages/tensorflow/python/ops/nn_ops.py:1013\u001b[0m, in \u001b[0;36mconvolution_v2\u001b[0;34m(input, filters, strides, padding, data_format, dilations, name)\u001b[0m\n\u001b[1;32m   1003\u001b[0m \u001b[39m@tf_export\u001b[39m(\u001b[39m\"\u001b[39m\u001b[39mnn.convolution\u001b[39m\u001b[39m\"\u001b[39m, v1\u001b[39m=\u001b[39m[])\n\u001b[1;32m   1004\u001b[0m \u001b[39m@dispatch\u001b[39m\u001b[39m.\u001b[39madd_dispatch_support\n\u001b[1;32m   1005\u001b[0m \u001b[39mdef\u001b[39;00m \u001b[39mconvolution_v2\u001b[39m(  \u001b[39m# pylint: disable=missing-docstring\u001b[39;00m\n\u001b[0;32m   (...)\u001b[0m\n\u001b[1;32m   1011\u001b[0m     dilations\u001b[39m=\u001b[39m\u001b[39mNone\u001b[39;00m,\n\u001b[1;32m   1012\u001b[0m     name\u001b[39m=\u001b[39m\u001b[39mNone\u001b[39;00m):\n\u001b[0;32m-> 1013\u001b[0m   \u001b[39mreturn\u001b[39;00m convolution_internal(\n\u001b[1;32m   1014\u001b[0m       \u001b[39minput\u001b[39;49m,  \u001b[39m# pylint: disable=redefined-builtin\u001b[39;49;00m\n\u001b[1;32m   1015\u001b[0m       filters,\n\u001b[1;32m   1016\u001b[0m       strides\u001b[39m=\u001b[39;49mstrides,\n\u001b[1;32m   1017\u001b[0m       padding\u001b[39m=\u001b[39;49mpadding,\n\u001b[1;32m   1018\u001b[0m       data_format\u001b[39m=\u001b[39;49mdata_format,\n\u001b[1;32m   1019\u001b[0m       dilations\u001b[39m=\u001b[39;49mdilations,\n\u001b[1;32m   1020\u001b[0m       name\u001b[39m=\u001b[39;49mname)\n",
      "File \u001b[0;32m~/miniconda3/envs/qnas1/lib/python3.8/site-packages/tensorflow/python/ops/nn_ops.py:1143\u001b[0m, in \u001b[0;36mconvolution_internal\u001b[0;34m(input, filters, strides, padding, data_format, dilations, name, call_from_convolution, num_spatial_dims)\u001b[0m\n\u001b[1;32m   1140\u001b[0m   \u001b[39melse\u001b[39;00m:\n\u001b[1;32m   1141\u001b[0m     op \u001b[39m=\u001b[39m conv1d\n\u001b[0;32m-> 1143\u001b[0m   \u001b[39mreturn\u001b[39;00m op(\n\u001b[1;32m   1144\u001b[0m       \u001b[39minput\u001b[39;49m,\n\u001b[1;32m   1145\u001b[0m       filters,\n\u001b[1;32m   1146\u001b[0m       strides,\n\u001b[1;32m   1147\u001b[0m       padding\u001b[39m=\u001b[39;49mpadding,\n\u001b[1;32m   1148\u001b[0m       data_format\u001b[39m=\u001b[39;49mdata_format,\n\u001b[1;32m   1149\u001b[0m       dilations\u001b[39m=\u001b[39;49mdilations,\n\u001b[1;32m   1150\u001b[0m       name\u001b[39m=\u001b[39;49mname)\n\u001b[1;32m   1151\u001b[0m \u001b[39melse\u001b[39;00m:\n\u001b[1;32m   1152\u001b[0m   \u001b[39mif\u001b[39;00m channel_index \u001b[39m==\u001b[39m \u001b[39m1\u001b[39m:\n",
      "File \u001b[0;32m~/miniconda3/envs/qnas1/lib/python3.8/site-packages/tensorflow/python/ops/nn_ops.py:2597\u001b[0m, in \u001b[0;36m_conv2d_expanded_batch\u001b[0;34m(input, filters, strides, padding, data_format, dilations, name)\u001b[0m\n\u001b[1;32m   2593\u001b[0m input_rank \u001b[39m=\u001b[39m \u001b[39minput\u001b[39m\u001b[39m.\u001b[39mshape\u001b[39m.\u001b[39mrank\n\u001b[1;32m   2594\u001b[0m \u001b[39mif\u001b[39;00m input_rank \u001b[39mis\u001b[39;00m \u001b[39mNone\u001b[39;00m \u001b[39mor\u001b[39;00m input_rank \u001b[39m<\u001b[39m \u001b[39m5\u001b[39m:\n\u001b[1;32m   2595\u001b[0m   \u001b[39m# We avoid calling squeeze_batch_dims to reduce extra python function\u001b[39;00m\n\u001b[1;32m   2596\u001b[0m   \u001b[39m# call slowdown in eager mode.  This branch doesn't require reshapes.\u001b[39;00m\n\u001b[0;32m-> 2597\u001b[0m   \u001b[39mreturn\u001b[39;00m gen_nn_ops\u001b[39m.\u001b[39;49mconv2d(\n\u001b[1;32m   2598\u001b[0m       \u001b[39minput\u001b[39;49m,\n\u001b[1;32m   2599\u001b[0m       \u001b[39mfilter\u001b[39;49m\u001b[39m=\u001b[39;49mfilters,\n\u001b[1;32m   2600\u001b[0m       strides\u001b[39m=\u001b[39;49mstrides,\n\u001b[1;32m   2601\u001b[0m       padding\u001b[39m=\u001b[39;49mpadding,\n\u001b[1;32m   2602\u001b[0m       data_format\u001b[39m=\u001b[39;49mdata_format,\n\u001b[1;32m   2603\u001b[0m       dilations\u001b[39m=\u001b[39;49mdilations,\n\u001b[1;32m   2604\u001b[0m       name\u001b[39m=\u001b[39;49mname)\n\u001b[1;32m   2605\u001b[0m \u001b[39mreturn\u001b[39;00m squeeze_batch_dims(\n\u001b[1;32m   2606\u001b[0m     \u001b[39minput\u001b[39m,\n\u001b[1;32m   2607\u001b[0m     functools\u001b[39m.\u001b[39mpartial(\n\u001b[0;32m   (...)\u001b[0m\n\u001b[1;32m   2614\u001b[0m     inner_rank\u001b[39m=\u001b[39m\u001b[39m3\u001b[39m,\n\u001b[1;32m   2615\u001b[0m     name\u001b[39m=\u001b[39mname)\n",
      "File \u001b[0;32m~/miniconda3/envs/qnas1/lib/python3.8/site-packages/tensorflow/python/ops/gen_nn_ops.py:932\u001b[0m, in \u001b[0;36mconv2d\u001b[0;34m(input, filter, strides, padding, use_cudnn_on_gpu, explicit_paddings, data_format, dilations, name)\u001b[0m\n\u001b[1;32m    930\u001b[0m   \u001b[39mreturn\u001b[39;00m _result\n\u001b[1;32m    931\u001b[0m \u001b[39mexcept\u001b[39;00m _core\u001b[39m.\u001b[39m_NotOkStatusException \u001b[39mas\u001b[39;00m e:\n\u001b[0;32m--> 932\u001b[0m   _ops\u001b[39m.\u001b[39;49mraise_from_not_ok_status(e, name)\n\u001b[1;32m    933\u001b[0m \u001b[39mexcept\u001b[39;00m _core\u001b[39m.\u001b[39m_FallbackException:\n\u001b[1;32m    934\u001b[0m   \u001b[39mpass\u001b[39;00m\n",
      "File \u001b[0;32m~/miniconda3/envs/qnas1/lib/python3.8/site-packages/tensorflow/python/framework/ops.py:6862\u001b[0m, in \u001b[0;36mraise_from_not_ok_status\u001b[0;34m(e, name)\u001b[0m\n\u001b[1;32m   6860\u001b[0m message \u001b[39m=\u001b[39m e\u001b[39m.\u001b[39mmessage \u001b[39m+\u001b[39m (\u001b[39m\"\u001b[39m\u001b[39m name: \u001b[39m\u001b[39m\"\u001b[39m \u001b[39m+\u001b[39m name \u001b[39mif\u001b[39;00m name \u001b[39mis\u001b[39;00m \u001b[39mnot\u001b[39;00m \u001b[39mNone\u001b[39;00m \u001b[39melse\u001b[39;00m \u001b[39m\"\u001b[39m\u001b[39m\"\u001b[39m)\n\u001b[1;32m   6861\u001b[0m \u001b[39m# pylint: disable=protected-access\u001b[39;00m\n\u001b[0;32m-> 6862\u001b[0m six\u001b[39m.\u001b[39;49mraise_from(core\u001b[39m.\u001b[39;49m_status_to_exception(e\u001b[39m.\u001b[39;49mcode, message), \u001b[39mNone\u001b[39;49;00m)\n",
      "File \u001b[0;32m<string>:3\u001b[0m, in \u001b[0;36mraise_from\u001b[0;34m(value, from_value)\u001b[0m\n",
      "\u001b[0;31mUnknownError\u001b[0m: Failed to get convolution algorithm. This is probably because cuDNN failed to initialize, so try looking to see if a warning log message was printed above. [Op:Conv2D]"
     ]
    }
   ],
   "source": [
    "# Creante random image tensor\n",
    "x = tf.random.uniform((1, 28, 28, 1))\n",
    "y = conv_block(x, name='test', is_train = False)\n",
    "# print(y.shape)"
   ]
  }
 ],
 "metadata": {
  "kernelspec": {
   "display_name": "qnas1",
   "language": "python",
   "name": "python3"
  },
  "language_info": {
   "codemirror_mode": {
    "name": "ipython",
    "version": 3
   },
   "file_extension": ".py",
   "mimetype": "text/x-python",
   "name": "python",
   "nbconvert_exporter": "python",
   "pygments_lexer": "ipython3",
   "version": "3.8.17"
  },
  "orig_nbformat": 4
 },
 "nbformat": 4,
 "nbformat_minor": 2
}
